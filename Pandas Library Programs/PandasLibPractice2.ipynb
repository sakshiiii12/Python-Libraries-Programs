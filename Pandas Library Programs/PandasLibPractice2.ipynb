{
 "cells": [
  {
   "cell_type": "code",
   "execution_count": 1,
   "id": "f71a73c6-b075-4c55-999b-ba18323fe3a1",
   "metadata": {},
   "outputs": [],
   "source": [
    "import pandas as pd\n",
    "import numpy as np"
   ]
  },
  {
   "cell_type": "code",
   "execution_count": 2,
   "id": "e9cbe672-a3d6-4c46-8d99-5cea20dfde8f",
   "metadata": {},
   "outputs": [],
   "source": [
    "data = {'Name': ['Sakshi Yadav', 'Santosh Shah', 'Diya Bansal', 'Riya Bansal', 'Abhishek Sharma', 'Ram Rai', 'Shyam Gupta', 'Satyam Mishera', 'Rahul Rai', 'Roshani Kumar'],\n",
    "     'Age': [20, 21, 19, 19, 22, 18, 22, 21, 19, 18],\n",
    "     'City': ['Indirapuram', 'Nodia', 'Nodia', 'Delhi', 'New Delhi', 'Delhi', np.nan, 'New Delhi', 'Nodia', 'Delhi'],\n",
    "     'Score': [99, 98, 70, 50, 66, 30, np.nan, 55, np.nan, 87]}"
   ]
  },
  {
   "cell_type": "code",
   "execution_count": 3,
   "id": "2167e53f-d10c-4723-b053-6ad96f753370",
   "metadata": {},
   "outputs": [],
   "source": [
    "df = pd.DataFrame(data)"
   ]
  },
  {
   "cell_type": "code",
   "execution_count": 4,
   "id": "4e82b1e2-4e03-40d5-833b-b98bdbcd0201",
   "metadata": {},
   "outputs": [
    {
     "data": {
      "text/html": [
       "<div>\n",
       "<style scoped>\n",
       "    .dataframe tbody tr th:only-of-type {\n",
       "        vertical-align: middle;\n",
       "    }\n",
       "\n",
       "    .dataframe tbody tr th {\n",
       "        vertical-align: top;\n",
       "    }\n",
       "\n",
       "    .dataframe thead th {\n",
       "        text-align: right;\n",
       "    }\n",
       "</style>\n",
       "<table border=\"1\" class=\"dataframe\">\n",
       "  <thead>\n",
       "    <tr style=\"text-align: right;\">\n",
       "      <th></th>\n",
       "      <th>Name</th>\n",
       "      <th>Age</th>\n",
       "      <th>City</th>\n",
       "      <th>Score</th>\n",
       "    </tr>\n",
       "  </thead>\n",
       "  <tbody>\n",
       "    <tr>\n",
       "      <th>0</th>\n",
       "      <td>Sakshi Yadav</td>\n",
       "      <td>20</td>\n",
       "      <td>Indirapuram</td>\n",
       "      <td>99.0</td>\n",
       "    </tr>\n",
       "    <tr>\n",
       "      <th>1</th>\n",
       "      <td>Santosh Shah</td>\n",
       "      <td>21</td>\n",
       "      <td>Nodia</td>\n",
       "      <td>98.0</td>\n",
       "    </tr>\n",
       "    <tr>\n",
       "      <th>2</th>\n",
       "      <td>Diya Bansal</td>\n",
       "      <td>19</td>\n",
       "      <td>Nodia</td>\n",
       "      <td>70.0</td>\n",
       "    </tr>\n",
       "    <tr>\n",
       "      <th>3</th>\n",
       "      <td>Riya Bansal</td>\n",
       "      <td>19</td>\n",
       "      <td>Delhi</td>\n",
       "      <td>50.0</td>\n",
       "    </tr>\n",
       "    <tr>\n",
       "      <th>4</th>\n",
       "      <td>Abhishek Sharma</td>\n",
       "      <td>22</td>\n",
       "      <td>New Delhi</td>\n",
       "      <td>66.0</td>\n",
       "    </tr>\n",
       "    <tr>\n",
       "      <th>5</th>\n",
       "      <td>Ram Rai</td>\n",
       "      <td>18</td>\n",
       "      <td>Delhi</td>\n",
       "      <td>30.0</td>\n",
       "    </tr>\n",
       "    <tr>\n",
       "      <th>6</th>\n",
       "      <td>Shyam Gupta</td>\n",
       "      <td>22</td>\n",
       "      <td>NaN</td>\n",
       "      <td>NaN</td>\n",
       "    </tr>\n",
       "    <tr>\n",
       "      <th>7</th>\n",
       "      <td>Satyam Mishera</td>\n",
       "      <td>21</td>\n",
       "      <td>New Delhi</td>\n",
       "      <td>55.0</td>\n",
       "    </tr>\n",
       "    <tr>\n",
       "      <th>8</th>\n",
       "      <td>Rahul Rai</td>\n",
       "      <td>19</td>\n",
       "      <td>Nodia</td>\n",
       "      <td>NaN</td>\n",
       "    </tr>\n",
       "    <tr>\n",
       "      <th>9</th>\n",
       "      <td>Roshani Kumar</td>\n",
       "      <td>18</td>\n",
       "      <td>Delhi</td>\n",
       "      <td>87.0</td>\n",
       "    </tr>\n",
       "  </tbody>\n",
       "</table>\n",
       "</div>"
      ],
      "text/plain": [
       "              Name  Age         City  Score\n",
       "0     Sakshi Yadav   20  Indirapuram   99.0\n",
       "1     Santosh Shah   21        Nodia   98.0\n",
       "2      Diya Bansal   19        Nodia   70.0\n",
       "3      Riya Bansal   19        Delhi   50.0\n",
       "4  Abhishek Sharma   22    New Delhi   66.0\n",
       "5          Ram Rai   18        Delhi   30.0\n",
       "6      Shyam Gupta   22          NaN    NaN\n",
       "7   Satyam Mishera   21    New Delhi   55.0\n",
       "8        Rahul Rai   19        Nodia    NaN\n",
       "9    Roshani Kumar   18        Delhi   87.0"
      ]
     },
     "execution_count": 4,
     "metadata": {},
     "output_type": "execute_result"
    }
   ],
   "source": [
    "df"
   ]
  },
  {
   "cell_type": "markdown",
   "id": "e74dbbb6-9ea1-443c-9e7e-aafa3253c08a",
   "metadata": {},
   "source": [
    "6. Handle Missing Data\n",
    "- Replace missing values in the Score column with the average score.\n",
    "- Drop all rows where the City is missing."
   ]
  },
  {
   "cell_type": "code",
   "execution_count": 5,
   "id": "79e46564-853d-4507-8e78-cdac433bcdfa",
   "metadata": {},
   "outputs": [
    {
     "data": {
      "text/plain": [
       "<bound method Series.isnull of 0    99.0\n",
       "1    98.0\n",
       "2    70.0\n",
       "3    50.0\n",
       "4    66.0\n",
       "5    30.0\n",
       "6     NaN\n",
       "7    55.0\n",
       "8     NaN\n",
       "9    87.0\n",
       "Name: Score, dtype: float64>"
      ]
     },
     "execution_count": 5,
     "metadata": {},
     "output_type": "execute_result"
    }
   ],
   "source": [
    "df['Score'].isnull"
   ]
  },
  {
   "cell_type": "code",
   "execution_count": 6,
   "id": "c5943895-0782-4583-a59a-3685f45b1bb1",
   "metadata": {},
   "outputs": [
    {
     "data": {
      "text/plain": [
       "np.float64(69.375)"
      ]
     },
     "execution_count": 6,
     "metadata": {},
     "output_type": "execute_result"
    }
   ],
   "source": [
    "df['Score'].mean()"
   ]
  },
  {
   "cell_type": "code",
   "execution_count": 7,
   "id": "657b7059-00a7-4b35-a306-a1f5c665df64",
   "metadata": {},
   "outputs": [],
   "source": [
    "df['Score'] = df['Score'].fillna(df['Score'].mean())"
   ]
  },
  {
   "cell_type": "code",
   "execution_count": 8,
   "id": "b5aa66a4-a2af-478e-9408-543bb0e60666",
   "metadata": {},
   "outputs": [
    {
     "data": {
      "text/html": [
       "<div>\n",
       "<style scoped>\n",
       "    .dataframe tbody tr th:only-of-type {\n",
       "        vertical-align: middle;\n",
       "    }\n",
       "\n",
       "    .dataframe tbody tr th {\n",
       "        vertical-align: top;\n",
       "    }\n",
       "\n",
       "    .dataframe thead th {\n",
       "        text-align: right;\n",
       "    }\n",
       "</style>\n",
       "<table border=\"1\" class=\"dataframe\">\n",
       "  <thead>\n",
       "    <tr style=\"text-align: right;\">\n",
       "      <th></th>\n",
       "      <th>Name</th>\n",
       "      <th>Age</th>\n",
       "      <th>City</th>\n",
       "      <th>Score</th>\n",
       "    </tr>\n",
       "  </thead>\n",
       "  <tbody>\n",
       "    <tr>\n",
       "      <th>0</th>\n",
       "      <td>Sakshi Yadav</td>\n",
       "      <td>20</td>\n",
       "      <td>Indirapuram</td>\n",
       "      <td>99.000</td>\n",
       "    </tr>\n",
       "    <tr>\n",
       "      <th>1</th>\n",
       "      <td>Santosh Shah</td>\n",
       "      <td>21</td>\n",
       "      <td>Nodia</td>\n",
       "      <td>98.000</td>\n",
       "    </tr>\n",
       "    <tr>\n",
       "      <th>2</th>\n",
       "      <td>Diya Bansal</td>\n",
       "      <td>19</td>\n",
       "      <td>Nodia</td>\n",
       "      <td>70.000</td>\n",
       "    </tr>\n",
       "    <tr>\n",
       "      <th>3</th>\n",
       "      <td>Riya Bansal</td>\n",
       "      <td>19</td>\n",
       "      <td>Delhi</td>\n",
       "      <td>50.000</td>\n",
       "    </tr>\n",
       "    <tr>\n",
       "      <th>4</th>\n",
       "      <td>Abhishek Sharma</td>\n",
       "      <td>22</td>\n",
       "      <td>New Delhi</td>\n",
       "      <td>66.000</td>\n",
       "    </tr>\n",
       "    <tr>\n",
       "      <th>5</th>\n",
       "      <td>Ram Rai</td>\n",
       "      <td>18</td>\n",
       "      <td>Delhi</td>\n",
       "      <td>30.000</td>\n",
       "    </tr>\n",
       "    <tr>\n",
       "      <th>6</th>\n",
       "      <td>Shyam Gupta</td>\n",
       "      <td>22</td>\n",
       "      <td>NaN</td>\n",
       "      <td>69.375</td>\n",
       "    </tr>\n",
       "    <tr>\n",
       "      <th>7</th>\n",
       "      <td>Satyam Mishera</td>\n",
       "      <td>21</td>\n",
       "      <td>New Delhi</td>\n",
       "      <td>55.000</td>\n",
       "    </tr>\n",
       "    <tr>\n",
       "      <th>8</th>\n",
       "      <td>Rahul Rai</td>\n",
       "      <td>19</td>\n",
       "      <td>Nodia</td>\n",
       "      <td>69.375</td>\n",
       "    </tr>\n",
       "    <tr>\n",
       "      <th>9</th>\n",
       "      <td>Roshani Kumar</td>\n",
       "      <td>18</td>\n",
       "      <td>Delhi</td>\n",
       "      <td>87.000</td>\n",
       "    </tr>\n",
       "  </tbody>\n",
       "</table>\n",
       "</div>"
      ],
      "text/plain": [
       "              Name  Age         City   Score\n",
       "0     Sakshi Yadav   20  Indirapuram  99.000\n",
       "1     Santosh Shah   21        Nodia  98.000\n",
       "2      Diya Bansal   19        Nodia  70.000\n",
       "3      Riya Bansal   19        Delhi  50.000\n",
       "4  Abhishek Sharma   22    New Delhi  66.000\n",
       "5          Ram Rai   18        Delhi  30.000\n",
       "6      Shyam Gupta   22          NaN  69.375\n",
       "7   Satyam Mishera   21    New Delhi  55.000\n",
       "8        Rahul Rai   19        Nodia  69.375\n",
       "9    Roshani Kumar   18        Delhi  87.000"
      ]
     },
     "execution_count": 8,
     "metadata": {},
     "output_type": "execute_result"
    }
   ],
   "source": [
    "df"
   ]
  },
  {
   "cell_type": "code",
   "execution_count": 9,
   "id": "634d79a9-aff8-4f58-addf-53baefd33cb1",
   "metadata": {},
   "outputs": [],
   "source": [
    "df = df.dropna(subset=['City'])"
   ]
  },
  {
   "cell_type": "code",
   "execution_count": 10,
   "id": "9883c466-80c1-41f2-84d1-23a1085e958e",
   "metadata": {},
   "outputs": [
    {
     "data": {
      "text/html": [
       "<div>\n",
       "<style scoped>\n",
       "    .dataframe tbody tr th:only-of-type {\n",
       "        vertical-align: middle;\n",
       "    }\n",
       "\n",
       "    .dataframe tbody tr th {\n",
       "        vertical-align: top;\n",
       "    }\n",
       "\n",
       "    .dataframe thead th {\n",
       "        text-align: right;\n",
       "    }\n",
       "</style>\n",
       "<table border=\"1\" class=\"dataframe\">\n",
       "  <thead>\n",
       "    <tr style=\"text-align: right;\">\n",
       "      <th></th>\n",
       "      <th>Name</th>\n",
       "      <th>Age</th>\n",
       "      <th>City</th>\n",
       "      <th>Score</th>\n",
       "    </tr>\n",
       "  </thead>\n",
       "  <tbody>\n",
       "    <tr>\n",
       "      <th>0</th>\n",
       "      <td>Sakshi Yadav</td>\n",
       "      <td>20</td>\n",
       "      <td>Indirapuram</td>\n",
       "      <td>99.000</td>\n",
       "    </tr>\n",
       "    <tr>\n",
       "      <th>1</th>\n",
       "      <td>Santosh Shah</td>\n",
       "      <td>21</td>\n",
       "      <td>Nodia</td>\n",
       "      <td>98.000</td>\n",
       "    </tr>\n",
       "    <tr>\n",
       "      <th>2</th>\n",
       "      <td>Diya Bansal</td>\n",
       "      <td>19</td>\n",
       "      <td>Nodia</td>\n",
       "      <td>70.000</td>\n",
       "    </tr>\n",
       "    <tr>\n",
       "      <th>3</th>\n",
       "      <td>Riya Bansal</td>\n",
       "      <td>19</td>\n",
       "      <td>Delhi</td>\n",
       "      <td>50.000</td>\n",
       "    </tr>\n",
       "    <tr>\n",
       "      <th>4</th>\n",
       "      <td>Abhishek Sharma</td>\n",
       "      <td>22</td>\n",
       "      <td>New Delhi</td>\n",
       "      <td>66.000</td>\n",
       "    </tr>\n",
       "    <tr>\n",
       "      <th>5</th>\n",
       "      <td>Ram Rai</td>\n",
       "      <td>18</td>\n",
       "      <td>Delhi</td>\n",
       "      <td>30.000</td>\n",
       "    </tr>\n",
       "    <tr>\n",
       "      <th>7</th>\n",
       "      <td>Satyam Mishera</td>\n",
       "      <td>21</td>\n",
       "      <td>New Delhi</td>\n",
       "      <td>55.000</td>\n",
       "    </tr>\n",
       "    <tr>\n",
       "      <th>8</th>\n",
       "      <td>Rahul Rai</td>\n",
       "      <td>19</td>\n",
       "      <td>Nodia</td>\n",
       "      <td>69.375</td>\n",
       "    </tr>\n",
       "    <tr>\n",
       "      <th>9</th>\n",
       "      <td>Roshani Kumar</td>\n",
       "      <td>18</td>\n",
       "      <td>Delhi</td>\n",
       "      <td>87.000</td>\n",
       "    </tr>\n",
       "  </tbody>\n",
       "</table>\n",
       "</div>"
      ],
      "text/plain": [
       "              Name  Age         City   Score\n",
       "0     Sakshi Yadav   20  Indirapuram  99.000\n",
       "1     Santosh Shah   21        Nodia  98.000\n",
       "2      Diya Bansal   19        Nodia  70.000\n",
       "3      Riya Bansal   19        Delhi  50.000\n",
       "4  Abhishek Sharma   22    New Delhi  66.000\n",
       "5          Ram Rai   18        Delhi  30.000\n",
       "7   Satyam Mishera   21    New Delhi  55.000\n",
       "8        Rahul Rai   19        Nodia  69.375\n",
       "9    Roshani Kumar   18        Delhi  87.000"
      ]
     },
     "execution_count": 10,
     "metadata": {},
     "output_type": "execute_result"
    }
   ],
   "source": [
    "df"
   ]
  },
  {
   "cell_type": "markdown",
   "id": "b2c0672e-ab09-4a06-a20b-1b0bf255aea3",
   "metadata": {},
   "source": [
    "7. GroupBy Operations\n",
    "- Group the data by City and calculate the average Score.\n",
    "- Count how many people are in each city."
   ]
  },
  {
   "cell_type": "code",
   "execution_count": 11,
   "id": "42e7dfd8-c5bc-439b-bdbc-15198c23ffd9",
   "metadata": {},
   "outputs": [
    {
     "data": {
      "text/plain": [
       "City\n",
       "Delhi          55.666667\n",
       "Indirapuram    99.000000\n",
       "New Delhi      60.500000\n",
       "Nodia          79.125000\n",
       "Name: Score, dtype: float64"
      ]
     },
     "execution_count": 11,
     "metadata": {},
     "output_type": "execute_result"
    }
   ],
   "source": [
    "df.groupby('City')['Score'].mean()"
   ]
  },
  {
   "cell_type": "code",
   "execution_count": 12,
   "id": "d3e4d1e8-7915-4889-8549-4620499fb3e6",
   "metadata": {},
   "outputs": [
    {
     "data": {
      "text/plain": [
       "City\n",
       "Nodia          3\n",
       "Delhi          3\n",
       "New Delhi      2\n",
       "Indirapuram    1\n",
       "Name: count, dtype: int64"
      ]
     },
     "execution_count": 12,
     "metadata": {},
     "output_type": "execute_result"
    }
   ],
   "source": [
    "df['City'].value_counts()"
   ]
  },
  {
   "cell_type": "markdown",
   "id": "d0a4455c-2db5-45b7-9f97-206a7638836d",
   "metadata": {},
   "source": [
    "8. Sorting and Ranking\n",
    "- Sort the DataFrame by Score in descending order.\n",
    "- Rank the students based on their Score."
   ]
  },
  {
   "cell_type": "code",
   "execution_count": 13,
   "id": "ede419a1-c87c-4e0e-b9d4-f59488b2324a",
   "metadata": {},
   "outputs": [
    {
     "data": {
      "text/html": [
       "<div>\n",
       "<style scoped>\n",
       "    .dataframe tbody tr th:only-of-type {\n",
       "        vertical-align: middle;\n",
       "    }\n",
       "\n",
       "    .dataframe tbody tr th {\n",
       "        vertical-align: top;\n",
       "    }\n",
       "\n",
       "    .dataframe thead th {\n",
       "        text-align: right;\n",
       "    }\n",
       "</style>\n",
       "<table border=\"1\" class=\"dataframe\">\n",
       "  <thead>\n",
       "    <tr style=\"text-align: right;\">\n",
       "      <th></th>\n",
       "      <th>Name</th>\n",
       "      <th>Age</th>\n",
       "      <th>City</th>\n",
       "      <th>Score</th>\n",
       "    </tr>\n",
       "  </thead>\n",
       "  <tbody>\n",
       "    <tr>\n",
       "      <th>0</th>\n",
       "      <td>Sakshi Yadav</td>\n",
       "      <td>20</td>\n",
       "      <td>Indirapuram</td>\n",
       "      <td>99.000</td>\n",
       "    </tr>\n",
       "    <tr>\n",
       "      <th>1</th>\n",
       "      <td>Santosh Shah</td>\n",
       "      <td>21</td>\n",
       "      <td>Nodia</td>\n",
       "      <td>98.000</td>\n",
       "    </tr>\n",
       "    <tr>\n",
       "      <th>9</th>\n",
       "      <td>Roshani Kumar</td>\n",
       "      <td>18</td>\n",
       "      <td>Delhi</td>\n",
       "      <td>87.000</td>\n",
       "    </tr>\n",
       "    <tr>\n",
       "      <th>2</th>\n",
       "      <td>Diya Bansal</td>\n",
       "      <td>19</td>\n",
       "      <td>Nodia</td>\n",
       "      <td>70.000</td>\n",
       "    </tr>\n",
       "    <tr>\n",
       "      <th>8</th>\n",
       "      <td>Rahul Rai</td>\n",
       "      <td>19</td>\n",
       "      <td>Nodia</td>\n",
       "      <td>69.375</td>\n",
       "    </tr>\n",
       "    <tr>\n",
       "      <th>4</th>\n",
       "      <td>Abhishek Sharma</td>\n",
       "      <td>22</td>\n",
       "      <td>New Delhi</td>\n",
       "      <td>66.000</td>\n",
       "    </tr>\n",
       "    <tr>\n",
       "      <th>7</th>\n",
       "      <td>Satyam Mishera</td>\n",
       "      <td>21</td>\n",
       "      <td>New Delhi</td>\n",
       "      <td>55.000</td>\n",
       "    </tr>\n",
       "    <tr>\n",
       "      <th>3</th>\n",
       "      <td>Riya Bansal</td>\n",
       "      <td>19</td>\n",
       "      <td>Delhi</td>\n",
       "      <td>50.000</td>\n",
       "    </tr>\n",
       "    <tr>\n",
       "      <th>5</th>\n",
       "      <td>Ram Rai</td>\n",
       "      <td>18</td>\n",
       "      <td>Delhi</td>\n",
       "      <td>30.000</td>\n",
       "    </tr>\n",
       "  </tbody>\n",
       "</table>\n",
       "</div>"
      ],
      "text/plain": [
       "              Name  Age         City   Score\n",
       "0     Sakshi Yadav   20  Indirapuram  99.000\n",
       "1     Santosh Shah   21        Nodia  98.000\n",
       "9    Roshani Kumar   18        Delhi  87.000\n",
       "2      Diya Bansal   19        Nodia  70.000\n",
       "8        Rahul Rai   19        Nodia  69.375\n",
       "4  Abhishek Sharma   22    New Delhi  66.000\n",
       "7   Satyam Mishera   21    New Delhi  55.000\n",
       "3      Riya Bansal   19        Delhi  50.000\n",
       "5          Ram Rai   18        Delhi  30.000"
      ]
     },
     "execution_count": 13,
     "metadata": {},
     "output_type": "execute_result"
    }
   ],
   "source": [
    "df.sort_values(by='Score', ascending = False)"
   ]
  },
  {
   "cell_type": "code",
   "execution_count": 14,
   "id": "5ea114fc-60d6-4908-9ae0-93cbe970ba9d",
   "metadata": {},
   "outputs": [
    {
     "data": {
      "text/plain": [
       "0    1.0\n",
       "1    2.0\n",
       "2    4.0\n",
       "3    8.0\n",
       "4    6.0\n",
       "5    9.0\n",
       "7    7.0\n",
       "8    5.0\n",
       "9    3.0\n",
       "Name: Score, dtype: float64"
      ]
     },
     "execution_count": 14,
     "metadata": {},
     "output_type": "execute_result"
    }
   ],
   "source": [
    "df['Score'].rank(ascending=False)"
   ]
  },
  {
   "cell_type": "markdown",
   "id": "c5a1ef70-3d15-47b2-b86a-62e88a7041ef",
   "metadata": {},
   "source": [
    "9. String Operations\n",
    "- Convert all names to uppercase.\n",
    "- Extract the first letter of each city name."
   ]
  },
  {
   "cell_type": "code",
   "execution_count": 15,
   "id": "68de93e7-c0ad-4edd-a73f-f0eafcd13460",
   "metadata": {},
   "outputs": [
    {
     "data": {
      "text/plain": [
       "0       SAKSHI YADAV\n",
       "1       SANTOSH SHAH\n",
       "2        DIYA BANSAL\n",
       "3        RIYA BANSAL\n",
       "4    ABHISHEK SHARMA\n",
       "5            RAM RAI\n",
       "7     SATYAM MISHERA\n",
       "8          RAHUL RAI\n",
       "9      ROSHANI KUMAR\n",
       "Name: Name, dtype: object"
      ]
     },
     "execution_count": 15,
     "metadata": {},
     "output_type": "execute_result"
    }
   ],
   "source": [
    "df['Name'].str.upper()"
   ]
  },
  {
   "cell_type": "code",
   "execution_count": 16,
   "id": "bfa92651-6f95-46b7-b944-8e4b18c6193e",
   "metadata": {},
   "outputs": [
    {
     "data": {
      "text/plain": [
       "0    I\n",
       "1    N\n",
       "2    N\n",
       "3    D\n",
       "4    N\n",
       "5    D\n",
       "7    N\n",
       "8    N\n",
       "9    D\n",
       "Name: City, dtype: object"
      ]
     },
     "execution_count": 16,
     "metadata": {},
     "output_type": "execute_result"
    }
   ],
   "source": [
    "df['City'].str[0]"
   ]
  },
  {
   "cell_type": "markdown",
   "id": "6252db71-ed4b-4c51-96a5-fea0ce9ff006",
   "metadata": {},
   "source": [
    "10. Date and Time\n",
    "- Add a column Join_Date with dates.\n",
    "- Convert it to datetime format and extract the year/month."
   ]
  },
  {
   "cell_type": "code",
   "execution_count": 17,
   "id": "82e5dffb-0b53-439c-bc59-3a9d15d46738",
   "metadata": {},
   "outputs": [
    {
     "name": "stderr",
     "output_type": "stream",
     "text": [
      "C:\\Users\\Sakshi Yadav\\AppData\\Local\\Temp\\ipykernel_11776\\3256069026.py:1: FutureWarning: 'M' is deprecated and will be removed in a future version, please use 'ME' instead.\n",
      "  df['Join_Date'] = pd.date_range(start='2025-01-01', periods=len(df), freq='M')\n",
      "C:\\Users\\Sakshi Yadav\\AppData\\Local\\Temp\\ipykernel_11776\\3256069026.py:1: SettingWithCopyWarning: \n",
      "A value is trying to be set on a copy of a slice from a DataFrame.\n",
      "Try using .loc[row_indexer,col_indexer] = value instead\n",
      "\n",
      "See the caveats in the documentation: https://pandas.pydata.org/pandas-docs/stable/user_guide/indexing.html#returning-a-view-versus-a-copy\n",
      "  df['Join_Date'] = pd.date_range(start='2025-01-01', periods=len(df), freq='M')\n"
     ]
    }
   ],
   "source": [
    "df['Join_Date'] = pd.date_range(start='2025-01-01', periods=len(df), freq='M')"
   ]
  },
  {
   "cell_type": "code",
   "execution_count": 18,
   "id": "0e1d5687-f2a0-4cdb-af1e-4e34ef4bfea6",
   "metadata": {},
   "outputs": [
    {
     "data": {
      "text/html": [
       "<div>\n",
       "<style scoped>\n",
       "    .dataframe tbody tr th:only-of-type {\n",
       "        vertical-align: middle;\n",
       "    }\n",
       "\n",
       "    .dataframe tbody tr th {\n",
       "        vertical-align: top;\n",
       "    }\n",
       "\n",
       "    .dataframe thead th {\n",
       "        text-align: right;\n",
       "    }\n",
       "</style>\n",
       "<table border=\"1\" class=\"dataframe\">\n",
       "  <thead>\n",
       "    <tr style=\"text-align: right;\">\n",
       "      <th></th>\n",
       "      <th>Name</th>\n",
       "      <th>Age</th>\n",
       "      <th>City</th>\n",
       "      <th>Score</th>\n",
       "      <th>Join_Date</th>\n",
       "    </tr>\n",
       "  </thead>\n",
       "  <tbody>\n",
       "    <tr>\n",
       "      <th>0</th>\n",
       "      <td>Sakshi Yadav</td>\n",
       "      <td>20</td>\n",
       "      <td>Indirapuram</td>\n",
       "      <td>99.000</td>\n",
       "      <td>2025-01-31</td>\n",
       "    </tr>\n",
       "    <tr>\n",
       "      <th>1</th>\n",
       "      <td>Santosh Shah</td>\n",
       "      <td>21</td>\n",
       "      <td>Nodia</td>\n",
       "      <td>98.000</td>\n",
       "      <td>2025-02-28</td>\n",
       "    </tr>\n",
       "    <tr>\n",
       "      <th>2</th>\n",
       "      <td>Diya Bansal</td>\n",
       "      <td>19</td>\n",
       "      <td>Nodia</td>\n",
       "      <td>70.000</td>\n",
       "      <td>2025-03-31</td>\n",
       "    </tr>\n",
       "    <tr>\n",
       "      <th>3</th>\n",
       "      <td>Riya Bansal</td>\n",
       "      <td>19</td>\n",
       "      <td>Delhi</td>\n",
       "      <td>50.000</td>\n",
       "      <td>2025-04-30</td>\n",
       "    </tr>\n",
       "    <tr>\n",
       "      <th>4</th>\n",
       "      <td>Abhishek Sharma</td>\n",
       "      <td>22</td>\n",
       "      <td>New Delhi</td>\n",
       "      <td>66.000</td>\n",
       "      <td>2025-05-31</td>\n",
       "    </tr>\n",
       "    <tr>\n",
       "      <th>5</th>\n",
       "      <td>Ram Rai</td>\n",
       "      <td>18</td>\n",
       "      <td>Delhi</td>\n",
       "      <td>30.000</td>\n",
       "      <td>2025-06-30</td>\n",
       "    </tr>\n",
       "    <tr>\n",
       "      <th>7</th>\n",
       "      <td>Satyam Mishera</td>\n",
       "      <td>21</td>\n",
       "      <td>New Delhi</td>\n",
       "      <td>55.000</td>\n",
       "      <td>2025-07-31</td>\n",
       "    </tr>\n",
       "    <tr>\n",
       "      <th>8</th>\n",
       "      <td>Rahul Rai</td>\n",
       "      <td>19</td>\n",
       "      <td>Nodia</td>\n",
       "      <td>69.375</td>\n",
       "      <td>2025-08-31</td>\n",
       "    </tr>\n",
       "    <tr>\n",
       "      <th>9</th>\n",
       "      <td>Roshani Kumar</td>\n",
       "      <td>18</td>\n",
       "      <td>Delhi</td>\n",
       "      <td>87.000</td>\n",
       "      <td>2025-09-30</td>\n",
       "    </tr>\n",
       "  </tbody>\n",
       "</table>\n",
       "</div>"
      ],
      "text/plain": [
       "              Name  Age         City   Score  Join_Date\n",
       "0     Sakshi Yadav   20  Indirapuram  99.000 2025-01-31\n",
       "1     Santosh Shah   21        Nodia  98.000 2025-02-28\n",
       "2      Diya Bansal   19        Nodia  70.000 2025-03-31\n",
       "3      Riya Bansal   19        Delhi  50.000 2025-04-30\n",
       "4  Abhishek Sharma   22    New Delhi  66.000 2025-05-31\n",
       "5          Ram Rai   18        Delhi  30.000 2025-06-30\n",
       "7   Satyam Mishera   21    New Delhi  55.000 2025-07-31\n",
       "8        Rahul Rai   19        Nodia  69.375 2025-08-31\n",
       "9    Roshani Kumar   18        Delhi  87.000 2025-09-30"
      ]
     },
     "execution_count": 18,
     "metadata": {},
     "output_type": "execute_result"
    }
   ],
   "source": [
    "df"
   ]
  },
  {
   "cell_type": "code",
   "execution_count": 19,
   "id": "c5e80984-4f9d-4317-823f-25a757b7f605",
   "metadata": {},
   "outputs": [
    {
     "data": {
      "text/plain": [
       "0    2025\n",
       "1    2025\n",
       "2    2025\n",
       "3    2025\n",
       "4    2025\n",
       "5    2025\n",
       "7    2025\n",
       "8    2025\n",
       "9    2025\n",
       "Name: Join_Date, dtype: int32"
      ]
     },
     "execution_count": 19,
     "metadata": {},
     "output_type": "execute_result"
    }
   ],
   "source": [
    "df['Join_Date'].dt.year"
   ]
  },
  {
   "cell_type": "code",
   "execution_count": 20,
   "id": "70ccfe2d-b322-495a-96dc-50630a26e141",
   "metadata": {},
   "outputs": [
    {
     "data": {
      "text/plain": [
       "0    1\n",
       "1    2\n",
       "2    3\n",
       "3    4\n",
       "4    5\n",
       "5    6\n",
       "7    7\n",
       "8    8\n",
       "9    9\n",
       "Name: Join_Date, dtype: int32"
      ]
     },
     "execution_count": 20,
     "metadata": {},
     "output_type": "execute_result"
    }
   ],
   "source": [
    "df['Join_Date'].dt.month"
   ]
  }
 ],
 "metadata": {
  "kernelspec": {
   "display_name": "Python 3 (ipykernel)",
   "language": "python",
   "name": "python3"
  },
  "language_info": {
   "codemirror_mode": {
    "name": "ipython",
    "version": 3
   },
   "file_extension": ".py",
   "mimetype": "text/x-python",
   "name": "python",
   "nbconvert_exporter": "python",
   "pygments_lexer": "ipython3",
   "version": "3.13.1"
  }
 },
 "nbformat": 4,
 "nbformat_minor": 5
}
