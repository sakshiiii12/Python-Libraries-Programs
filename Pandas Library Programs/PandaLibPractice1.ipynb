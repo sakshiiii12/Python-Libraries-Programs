{
 "cells": [
  {
   "cell_type": "markdown",
   "id": "bc076170-fdb5-48b4-a226-80d3f089f35a",
   "metadata": {},
   "source": [
    "# What is pandas library?\n",
    "- Pandas is a powerful library used for data manipulation and analysis.\n",
    "- It provides two primary data structures:\n",
    "  1. Series - A one-dimensional labeled array\n",
    "  2. Data Frame - A two-dimensional labeled table similar to an excel spreadsheet or sql table.\n",
    "- With pandas, you can:\n",
    "  1. Load data from CSV, EXCEL, SQL, JASON.\n",
    "  2. Handle missing data.\n",
    "  3. Filter and transform datasets.\n",
    "  4. Perform group-by operations and aggregation\n",
    "  5. Merge and Join datasets.\n",
    "  6. Visualize basic statistics."
   ]
  },
  {
   "cell_type": "code",
   "execution_count": 1,
   "id": "3e3cf67a-d142-44de-934f-a5b680d8d679",
   "metadata": {},
   "outputs": [],
   "source": [
    "import pandas as pd"
   ]
  },
  {
   "cell_type": "markdown",
   "id": "616a2cc3-d261-4234-a967-58419b7fab9d",
   "metadata": {},
   "source": [
    "1. Create and Explore a DataFrame\n",
    " - Create a DataFrame with the following columns: Name, Age, City, Score."
   ]
  },
  {
   "cell_type": "code",
   "execution_count": 2,
   "id": "029ea01d-5104-4997-9645-e71ad63e22fe",
   "metadata": {},
   "outputs": [],
   "source": [
    "data = {'Name': ['Sakshi Yadav', 'Santosh Shah', 'Diya Bansal', 'Riya Bansal', 'Abhishek Sharma', 'Ram Rai', 'Shyam Gupta', 'Satyam Mishera', 'Rahul Rai', 'Roshani Kumar'],\n",
    "     'Age': [20, 21, 19, 19, 22, 18, 22, 21, 19, 18],\n",
    "     'City': ['Indirapuram', 'Nodia', 'Vaishali', 'Delhi', 'New Delhi', 'Preet vihar', 'GTB Nagar', 'Laxmi Nagar', 'Tagore Garden', 'Ghazibad'],\n",
    "     'Score': [99, 98, 70, 50, 66, 30, 10, 55, 40, 87]}"
   ]
  },
  {
   "cell_type": "code",
   "execution_count": 3,
   "id": "5c911886-25b4-48f9-bc58-df665a6022d6",
   "metadata": {},
   "outputs": [
    {
     "data": {
      "text/html": [
       "<div>\n",
       "<style scoped>\n",
       "    .dataframe tbody tr th:only-of-type {\n",
       "        vertical-align: middle;\n",
       "    }\n",
       "\n",
       "    .dataframe tbody tr th {\n",
       "        vertical-align: top;\n",
       "    }\n",
       "\n",
       "    .dataframe thead th {\n",
       "        text-align: right;\n",
       "    }\n",
       "</style>\n",
       "<table border=\"1\" class=\"dataframe\">\n",
       "  <thead>\n",
       "    <tr style=\"text-align: right;\">\n",
       "      <th></th>\n",
       "      <th>Name</th>\n",
       "      <th>Age</th>\n",
       "      <th>City</th>\n",
       "      <th>Score</th>\n",
       "    </tr>\n",
       "  </thead>\n",
       "  <tbody>\n",
       "    <tr>\n",
       "      <th>0</th>\n",
       "      <td>Sakshi Yadav</td>\n",
       "      <td>20</td>\n",
       "      <td>Indirapuram</td>\n",
       "      <td>99</td>\n",
       "    </tr>\n",
       "    <tr>\n",
       "      <th>1</th>\n",
       "      <td>Santosh Shah</td>\n",
       "      <td>21</td>\n",
       "      <td>Nodia</td>\n",
       "      <td>98</td>\n",
       "    </tr>\n",
       "    <tr>\n",
       "      <th>2</th>\n",
       "      <td>Diya Bansal</td>\n",
       "      <td>19</td>\n",
       "      <td>Vaishali</td>\n",
       "      <td>70</td>\n",
       "    </tr>\n",
       "    <tr>\n",
       "      <th>3</th>\n",
       "      <td>Riya Bansal</td>\n",
       "      <td>19</td>\n",
       "      <td>Delhi</td>\n",
       "      <td>50</td>\n",
       "    </tr>\n",
       "    <tr>\n",
       "      <th>4</th>\n",
       "      <td>Abhishek Sharma</td>\n",
       "      <td>22</td>\n",
       "      <td>New Delhi</td>\n",
       "      <td>66</td>\n",
       "    </tr>\n",
       "    <tr>\n",
       "      <th>5</th>\n",
       "      <td>Ram Rai</td>\n",
       "      <td>18</td>\n",
       "      <td>Preet vihar</td>\n",
       "      <td>30</td>\n",
       "    </tr>\n",
       "    <tr>\n",
       "      <th>6</th>\n",
       "      <td>Shyam Gupta</td>\n",
       "      <td>22</td>\n",
       "      <td>GTB Nagar</td>\n",
       "      <td>10</td>\n",
       "    </tr>\n",
       "    <tr>\n",
       "      <th>7</th>\n",
       "      <td>Satyam Mishera</td>\n",
       "      <td>21</td>\n",
       "      <td>Laxmi Nagar</td>\n",
       "      <td>55</td>\n",
       "    </tr>\n",
       "    <tr>\n",
       "      <th>8</th>\n",
       "      <td>Rahul Rai</td>\n",
       "      <td>19</td>\n",
       "      <td>Tagore Garden</td>\n",
       "      <td>40</td>\n",
       "    </tr>\n",
       "    <tr>\n",
       "      <th>9</th>\n",
       "      <td>Roshani Kumar</td>\n",
       "      <td>18</td>\n",
       "      <td>Ghazibad</td>\n",
       "      <td>87</td>\n",
       "    </tr>\n",
       "  </tbody>\n",
       "</table>\n",
       "</div>"
      ],
      "text/plain": [
       "              Name  Age           City  Score\n",
       "0     Sakshi Yadav   20    Indirapuram     99\n",
       "1     Santosh Shah   21          Nodia     98\n",
       "2      Diya Bansal   19       Vaishali     70\n",
       "3      Riya Bansal   19          Delhi     50\n",
       "4  Abhishek Sharma   22      New Delhi     66\n",
       "5          Ram Rai   18    Preet vihar     30\n",
       "6      Shyam Gupta   22      GTB Nagar     10\n",
       "7   Satyam Mishera   21    Laxmi Nagar     55\n",
       "8        Rahul Rai   19  Tagore Garden     40\n",
       "9    Roshani Kumar   18       Ghazibad     87"
      ]
     },
     "execution_count": 3,
     "metadata": {},
     "output_type": "execute_result"
    }
   ],
   "source": [
    "df = pd.DataFrame(data)\n",
    "df"
   ]
  },
  {
   "cell_type": "markdown",
   "id": "0e3e6b87-350c-41d6-967f-792ca92ee9f4",
   "metadata": {},
   "source": [
    "- Print the first 5 rows using .head()."
   ]
  },
  {
   "cell_type": "code",
   "execution_count": 4,
   "id": "0b139e17-78d2-474e-8d2c-6e991667b887",
   "metadata": {},
   "outputs": [
    {
     "data": {
      "text/html": [
       "<div>\n",
       "<style scoped>\n",
       "    .dataframe tbody tr th:only-of-type {\n",
       "        vertical-align: middle;\n",
       "    }\n",
       "\n",
       "    .dataframe tbody tr th {\n",
       "        vertical-align: top;\n",
       "    }\n",
       "\n",
       "    .dataframe thead th {\n",
       "        text-align: right;\n",
       "    }\n",
       "</style>\n",
       "<table border=\"1\" class=\"dataframe\">\n",
       "  <thead>\n",
       "    <tr style=\"text-align: right;\">\n",
       "      <th></th>\n",
       "      <th>Name</th>\n",
       "      <th>Age</th>\n",
       "      <th>City</th>\n",
       "      <th>Score</th>\n",
       "    </tr>\n",
       "  </thead>\n",
       "  <tbody>\n",
       "    <tr>\n",
       "      <th>0</th>\n",
       "      <td>Sakshi Yadav</td>\n",
       "      <td>20</td>\n",
       "      <td>Indirapuram</td>\n",
       "      <td>99</td>\n",
       "    </tr>\n",
       "    <tr>\n",
       "      <th>1</th>\n",
       "      <td>Santosh Shah</td>\n",
       "      <td>21</td>\n",
       "      <td>Nodia</td>\n",
       "      <td>98</td>\n",
       "    </tr>\n",
       "    <tr>\n",
       "      <th>2</th>\n",
       "      <td>Diya Bansal</td>\n",
       "      <td>19</td>\n",
       "      <td>Vaishali</td>\n",
       "      <td>70</td>\n",
       "    </tr>\n",
       "    <tr>\n",
       "      <th>3</th>\n",
       "      <td>Riya Bansal</td>\n",
       "      <td>19</td>\n",
       "      <td>Delhi</td>\n",
       "      <td>50</td>\n",
       "    </tr>\n",
       "    <tr>\n",
       "      <th>4</th>\n",
       "      <td>Abhishek Sharma</td>\n",
       "      <td>22</td>\n",
       "      <td>New Delhi</td>\n",
       "      <td>66</td>\n",
       "    </tr>\n",
       "  </tbody>\n",
       "</table>\n",
       "</div>"
      ],
      "text/plain": [
       "              Name  Age         City  Score\n",
       "0     Sakshi Yadav   20  Indirapuram     99\n",
       "1     Santosh Shah   21        Nodia     98\n",
       "2      Diya Bansal   19     Vaishali     70\n",
       "3      Riya Bansal   19        Delhi     50\n",
       "4  Abhishek Sharma   22    New Delhi     66"
      ]
     },
     "execution_count": 4,
     "metadata": {},
     "output_type": "execute_result"
    }
   ],
   "source": [
    "df.head(5)"
   ]
  },
  {
   "cell_type": "markdown",
   "id": "8ca8420a-4c23-4deb-b7de-1c0f2fefcc11",
   "metadata": {},
   "source": [
    "- Use .info() and .describe() to understand the dataset."
   ]
  },
  {
   "cell_type": "code",
   "execution_count": 5,
   "id": "8d733bef-a557-44c7-8c79-5d26bd8c39b0",
   "metadata": {},
   "outputs": [
    {
     "name": "stdout",
     "output_type": "stream",
     "text": [
      "<class 'pandas.core.frame.DataFrame'>\n",
      "RangeIndex: 10 entries, 0 to 9\n",
      "Data columns (total 4 columns):\n",
      " #   Column  Non-Null Count  Dtype \n",
      "---  ------  --------------  ----- \n",
      " 0   Name    10 non-null     object\n",
      " 1   Age     10 non-null     int64 \n",
      " 2   City    10 non-null     object\n",
      " 3   Score   10 non-null     int64 \n",
      "dtypes: int64(2), object(2)\n",
      "memory usage: 452.0+ bytes\n"
     ]
    }
   ],
   "source": [
    "df.info()"
   ]
  },
  {
   "cell_type": "code",
   "execution_count": 6,
   "id": "3055c619-a7b9-423a-88f2-50ed8346749d",
   "metadata": {},
   "outputs": [
    {
     "data": {
      "text/html": [
       "<div>\n",
       "<style scoped>\n",
       "    .dataframe tbody tr th:only-of-type {\n",
       "        vertical-align: middle;\n",
       "    }\n",
       "\n",
       "    .dataframe tbody tr th {\n",
       "        vertical-align: top;\n",
       "    }\n",
       "\n",
       "    .dataframe thead th {\n",
       "        text-align: right;\n",
       "    }\n",
       "</style>\n",
       "<table border=\"1\" class=\"dataframe\">\n",
       "  <thead>\n",
       "    <tr style=\"text-align: right;\">\n",
       "      <th></th>\n",
       "      <th>Age</th>\n",
       "      <th>Score</th>\n",
       "    </tr>\n",
       "  </thead>\n",
       "  <tbody>\n",
       "    <tr>\n",
       "      <th>count</th>\n",
       "      <td>10.000000</td>\n",
       "      <td>10.000000</td>\n",
       "    </tr>\n",
       "    <tr>\n",
       "      <th>mean</th>\n",
       "      <td>19.900000</td>\n",
       "      <td>60.500000</td>\n",
       "    </tr>\n",
       "    <tr>\n",
       "      <th>std</th>\n",
       "      <td>1.523884</td>\n",
       "      <td>29.349427</td>\n",
       "    </tr>\n",
       "    <tr>\n",
       "      <th>min</th>\n",
       "      <td>18.000000</td>\n",
       "      <td>10.000000</td>\n",
       "    </tr>\n",
       "    <tr>\n",
       "      <th>25%</th>\n",
       "      <td>19.000000</td>\n",
       "      <td>42.500000</td>\n",
       "    </tr>\n",
       "    <tr>\n",
       "      <th>50%</th>\n",
       "      <td>19.500000</td>\n",
       "      <td>60.500000</td>\n",
       "    </tr>\n",
       "    <tr>\n",
       "      <th>75%</th>\n",
       "      <td>21.000000</td>\n",
       "      <td>82.750000</td>\n",
       "    </tr>\n",
       "    <tr>\n",
       "      <th>max</th>\n",
       "      <td>22.000000</td>\n",
       "      <td>99.000000</td>\n",
       "    </tr>\n",
       "  </tbody>\n",
       "</table>\n",
       "</div>"
      ],
      "text/plain": [
       "             Age      Score\n",
       "count  10.000000  10.000000\n",
       "mean   19.900000  60.500000\n",
       "std     1.523884  29.349427\n",
       "min    18.000000  10.000000\n",
       "25%    19.000000  42.500000\n",
       "50%    19.500000  60.500000\n",
       "75%    21.000000  82.750000\n",
       "max    22.000000  99.000000"
      ]
     },
     "execution_count": 6,
     "metadata": {},
     "output_type": "execute_result"
    }
   ],
   "source": [
    "df.describe()"
   ]
  },
  {
   "cell_type": "markdown",
   "id": "806d3810-7bf0-4b63-a09e-ffea2c20fb8c",
   "metadata": {},
   "source": [
    "2. Select Columns and Rows\n",
    "- Select the Name and Score columns.\n",
    "- Select rows where Score > 80."
   ]
  },
  {
   "cell_type": "code",
   "execution_count": 7,
   "id": "f1a6514f-2f0e-4def-ac74-d8db7cd74882",
   "metadata": {},
   "outputs": [
    {
     "data": {
      "text/html": [
       "<div>\n",
       "<style scoped>\n",
       "    .dataframe tbody tr th:only-of-type {\n",
       "        vertical-align: middle;\n",
       "    }\n",
       "\n",
       "    .dataframe tbody tr th {\n",
       "        vertical-align: top;\n",
       "    }\n",
       "\n",
       "    .dataframe thead th {\n",
       "        text-align: right;\n",
       "    }\n",
       "</style>\n",
       "<table border=\"1\" class=\"dataframe\">\n",
       "  <thead>\n",
       "    <tr style=\"text-align: right;\">\n",
       "      <th></th>\n",
       "      <th>Name</th>\n",
       "      <th>Age</th>\n",
       "      <th>City</th>\n",
       "      <th>Score</th>\n",
       "    </tr>\n",
       "  </thead>\n",
       "  <tbody>\n",
       "    <tr>\n",
       "      <th>0</th>\n",
       "      <td>Sakshi Yadav</td>\n",
       "      <td>20</td>\n",
       "      <td>Indirapuram</td>\n",
       "      <td>99</td>\n",
       "    </tr>\n",
       "    <tr>\n",
       "      <th>1</th>\n",
       "      <td>Santosh Shah</td>\n",
       "      <td>21</td>\n",
       "      <td>Nodia</td>\n",
       "      <td>98</td>\n",
       "    </tr>\n",
       "    <tr>\n",
       "      <th>9</th>\n",
       "      <td>Roshani Kumar</td>\n",
       "      <td>18</td>\n",
       "      <td>Ghazibad</td>\n",
       "      <td>87</td>\n",
       "    </tr>\n",
       "  </tbody>\n",
       "</table>\n",
       "</div>"
      ],
      "text/plain": [
       "            Name  Age         City  Score\n",
       "0   Sakshi Yadav   20  Indirapuram     99\n",
       "1   Santosh Shah   21        Nodia     98\n",
       "9  Roshani Kumar   18     Ghazibad     87"
      ]
     },
     "execution_count": 7,
     "metadata": {},
     "output_type": "execute_result"
    }
   ],
   "source": [
    "df[['Name', 'Score']]\n",
    "df[df['Score'] > 80]"
   ]
  },
  {
   "cell_type": "markdown",
   "id": "2ccecd93-a95a-43bb-b2a9-8fd6a1ca7364",
   "metadata": {},
   "source": [
    "3. Filter Rows by Conditions\n",
    "- Find people from 'New York' whose score is above 70.\n",
    "- Count how many people are over 30 years old."
   ]
  },
  {
   "cell_type": "code",
   "execution_count": 8,
   "id": "cee25efa-380a-4d4c-8fdc-a4d4427af906",
   "metadata": {},
   "outputs": [
    {
     "data": {
      "text/html": [
       "<div>\n",
       "<style scoped>\n",
       "    .dataframe tbody tr th:only-of-type {\n",
       "        vertical-align: middle;\n",
       "    }\n",
       "\n",
       "    .dataframe tbody tr th {\n",
       "        vertical-align: top;\n",
       "    }\n",
       "\n",
       "    .dataframe thead th {\n",
       "        text-align: right;\n",
       "    }\n",
       "</style>\n",
       "<table border=\"1\" class=\"dataframe\">\n",
       "  <thead>\n",
       "    <tr style=\"text-align: right;\">\n",
       "      <th></th>\n",
       "      <th>Name</th>\n",
       "      <th>Age</th>\n",
       "      <th>City</th>\n",
       "      <th>Score</th>\n",
       "    </tr>\n",
       "  </thead>\n",
       "  <tbody>\n",
       "    <tr>\n",
       "      <th>9</th>\n",
       "      <td>Roshani Kumar</td>\n",
       "      <td>18</td>\n",
       "      <td>Ghazibad</td>\n",
       "      <td>87</td>\n",
       "    </tr>\n",
       "  </tbody>\n",
       "</table>\n",
       "</div>"
      ],
      "text/plain": [
       "            Name  Age      City  Score\n",
       "9  Roshani Kumar   18  Ghazibad     87"
      ]
     },
     "execution_count": 8,
     "metadata": {},
     "output_type": "execute_result"
    }
   ],
   "source": [
    "df[(df['City'] == 'Ghazibad') & (df['Score'] > 70)]"
   ]
  },
  {
   "cell_type": "code",
   "execution_count": 9,
   "id": "152185cd-60be-4a2b-90d0-3a88a6a19aa1",
   "metadata": {},
   "outputs": [
    {
     "data": {
      "text/html": [
       "<div>\n",
       "<style scoped>\n",
       "    .dataframe tbody tr th:only-of-type {\n",
       "        vertical-align: middle;\n",
       "    }\n",
       "\n",
       "    .dataframe tbody tr th {\n",
       "        vertical-align: top;\n",
       "    }\n",
       "\n",
       "    .dataframe thead th {\n",
       "        text-align: right;\n",
       "    }\n",
       "</style>\n",
       "<table border=\"1\" class=\"dataframe\">\n",
       "  <thead>\n",
       "    <tr style=\"text-align: right;\">\n",
       "      <th></th>\n",
       "      <th>Name</th>\n",
       "      <th>Age</th>\n",
       "      <th>City</th>\n",
       "      <th>Score</th>\n",
       "    </tr>\n",
       "  </thead>\n",
       "  <tbody>\n",
       "    <tr>\n",
       "      <th>0</th>\n",
       "      <td>Sakshi Yadav</td>\n",
       "      <td>20</td>\n",
       "      <td>Indirapuram</td>\n",
       "      <td>99</td>\n",
       "    </tr>\n",
       "    <tr>\n",
       "      <th>1</th>\n",
       "      <td>Santosh Shah</td>\n",
       "      <td>21</td>\n",
       "      <td>Nodia</td>\n",
       "      <td>98</td>\n",
       "    </tr>\n",
       "    <tr>\n",
       "      <th>2</th>\n",
       "      <td>Diya Bansal</td>\n",
       "      <td>19</td>\n",
       "      <td>Vaishali</td>\n",
       "      <td>70</td>\n",
       "    </tr>\n",
       "    <tr>\n",
       "      <th>3</th>\n",
       "      <td>Riya Bansal</td>\n",
       "      <td>19</td>\n",
       "      <td>Delhi</td>\n",
       "      <td>50</td>\n",
       "    </tr>\n",
       "    <tr>\n",
       "      <th>4</th>\n",
       "      <td>Abhishek Sharma</td>\n",
       "      <td>22</td>\n",
       "      <td>New Delhi</td>\n",
       "      <td>66</td>\n",
       "    </tr>\n",
       "    <tr>\n",
       "      <th>6</th>\n",
       "      <td>Shyam Gupta</td>\n",
       "      <td>22</td>\n",
       "      <td>GTB Nagar</td>\n",
       "      <td>10</td>\n",
       "    </tr>\n",
       "    <tr>\n",
       "      <th>7</th>\n",
       "      <td>Satyam Mishera</td>\n",
       "      <td>21</td>\n",
       "      <td>Laxmi Nagar</td>\n",
       "      <td>55</td>\n",
       "    </tr>\n",
       "    <tr>\n",
       "      <th>8</th>\n",
       "      <td>Rahul Rai</td>\n",
       "      <td>19</td>\n",
       "      <td>Tagore Garden</td>\n",
       "      <td>40</td>\n",
       "    </tr>\n",
       "  </tbody>\n",
       "</table>\n",
       "</div>"
      ],
      "text/plain": [
       "              Name  Age           City  Score\n",
       "0     Sakshi Yadav   20    Indirapuram     99\n",
       "1     Santosh Shah   21          Nodia     98\n",
       "2      Diya Bansal   19       Vaishali     70\n",
       "3      Riya Bansal   19          Delhi     50\n",
       "4  Abhishek Sharma   22      New Delhi     66\n",
       "6      Shyam Gupta   22      GTB Nagar     10\n",
       "7   Satyam Mishera   21    Laxmi Nagar     55\n",
       "8        Rahul Rai   19  Tagore Garden     40"
      ]
     },
     "execution_count": 9,
     "metadata": {},
     "output_type": "execute_result"
    }
   ],
   "source": [
    "df[(df['Age'] > 18)]"
   ]
  },
  {
   "cell_type": "markdown",
   "id": "b6e972da-3dd3-42ce-a0e4-0ec1ae6b7002",
   "metadata": {},
   "source": [
    "4. Add and Modify Columns\n",
    "- Add a new column Passed which is True if Score >= 50, else False.\n",
    "- Increase everyone’s score by 5 points."
   ]
  },
  {
   "cell_type": "code",
   "execution_count": 10,
   "id": "30e7ead1-31e0-4ec4-9734-362deb812d7f",
   "metadata": {},
   "outputs": [],
   "source": [
    "df['Passed'] = df['Score'] >= 50\n",
    "df['Score_Updated'] = df['Score'] + 5"
   ]
  },
  {
   "cell_type": "code",
   "execution_count": 11,
   "id": "9add68f9-9cc1-4fc9-bb49-d3f24b410a0c",
   "metadata": {},
   "outputs": [
    {
     "data": {
      "text/html": [
       "<div>\n",
       "<style scoped>\n",
       "    .dataframe tbody tr th:only-of-type {\n",
       "        vertical-align: middle;\n",
       "    }\n",
       "\n",
       "    .dataframe tbody tr th {\n",
       "        vertical-align: top;\n",
       "    }\n",
       "\n",
       "    .dataframe thead th {\n",
       "        text-align: right;\n",
       "    }\n",
       "</style>\n",
       "<table border=\"1\" class=\"dataframe\">\n",
       "  <thead>\n",
       "    <tr style=\"text-align: right;\">\n",
       "      <th></th>\n",
       "      <th>Name</th>\n",
       "      <th>Age</th>\n",
       "      <th>City</th>\n",
       "      <th>Score</th>\n",
       "      <th>Passed</th>\n",
       "      <th>Score_Updated</th>\n",
       "    </tr>\n",
       "  </thead>\n",
       "  <tbody>\n",
       "    <tr>\n",
       "      <th>0</th>\n",
       "      <td>Sakshi Yadav</td>\n",
       "      <td>20</td>\n",
       "      <td>Indirapuram</td>\n",
       "      <td>99</td>\n",
       "      <td>True</td>\n",
       "      <td>104</td>\n",
       "    </tr>\n",
       "    <tr>\n",
       "      <th>1</th>\n",
       "      <td>Santosh Shah</td>\n",
       "      <td>21</td>\n",
       "      <td>Nodia</td>\n",
       "      <td>98</td>\n",
       "      <td>True</td>\n",
       "      <td>103</td>\n",
       "    </tr>\n",
       "    <tr>\n",
       "      <th>2</th>\n",
       "      <td>Diya Bansal</td>\n",
       "      <td>19</td>\n",
       "      <td>Vaishali</td>\n",
       "      <td>70</td>\n",
       "      <td>True</td>\n",
       "      <td>75</td>\n",
       "    </tr>\n",
       "    <tr>\n",
       "      <th>3</th>\n",
       "      <td>Riya Bansal</td>\n",
       "      <td>19</td>\n",
       "      <td>Delhi</td>\n",
       "      <td>50</td>\n",
       "      <td>True</td>\n",
       "      <td>55</td>\n",
       "    </tr>\n",
       "    <tr>\n",
       "      <th>4</th>\n",
       "      <td>Abhishek Sharma</td>\n",
       "      <td>22</td>\n",
       "      <td>New Delhi</td>\n",
       "      <td>66</td>\n",
       "      <td>True</td>\n",
       "      <td>71</td>\n",
       "    </tr>\n",
       "    <tr>\n",
       "      <th>5</th>\n",
       "      <td>Ram Rai</td>\n",
       "      <td>18</td>\n",
       "      <td>Preet vihar</td>\n",
       "      <td>30</td>\n",
       "      <td>False</td>\n",
       "      <td>35</td>\n",
       "    </tr>\n",
       "    <tr>\n",
       "      <th>6</th>\n",
       "      <td>Shyam Gupta</td>\n",
       "      <td>22</td>\n",
       "      <td>GTB Nagar</td>\n",
       "      <td>10</td>\n",
       "      <td>False</td>\n",
       "      <td>15</td>\n",
       "    </tr>\n",
       "    <tr>\n",
       "      <th>7</th>\n",
       "      <td>Satyam Mishera</td>\n",
       "      <td>21</td>\n",
       "      <td>Laxmi Nagar</td>\n",
       "      <td>55</td>\n",
       "      <td>True</td>\n",
       "      <td>60</td>\n",
       "    </tr>\n",
       "    <tr>\n",
       "      <th>8</th>\n",
       "      <td>Rahul Rai</td>\n",
       "      <td>19</td>\n",
       "      <td>Tagore Garden</td>\n",
       "      <td>40</td>\n",
       "      <td>False</td>\n",
       "      <td>45</td>\n",
       "    </tr>\n",
       "    <tr>\n",
       "      <th>9</th>\n",
       "      <td>Roshani Kumar</td>\n",
       "      <td>18</td>\n",
       "      <td>Ghazibad</td>\n",
       "      <td>87</td>\n",
       "      <td>True</td>\n",
       "      <td>92</td>\n",
       "    </tr>\n",
       "  </tbody>\n",
       "</table>\n",
       "</div>"
      ],
      "text/plain": [
       "              Name  Age           City  Score  Passed  Score_Updated\n",
       "0     Sakshi Yadav   20    Indirapuram     99    True            104\n",
       "1     Santosh Shah   21          Nodia     98    True            103\n",
       "2      Diya Bansal   19       Vaishali     70    True             75\n",
       "3      Riya Bansal   19          Delhi     50    True             55\n",
       "4  Abhishek Sharma   22      New Delhi     66    True             71\n",
       "5          Ram Rai   18    Preet vihar     30   False             35\n",
       "6      Shyam Gupta   22      GTB Nagar     10   False             15\n",
       "7   Satyam Mishera   21    Laxmi Nagar     55    True             60\n",
       "8        Rahul Rai   19  Tagore Garden     40   False             45\n",
       "9    Roshani Kumar   18       Ghazibad     87    True             92"
      ]
     },
     "execution_count": 11,
     "metadata": {},
     "output_type": "execute_result"
    }
   ],
   "source": [
    "df"
   ]
  },
  {
   "cell_type": "markdown",
   "id": "f5756b81-4e87-4c6b-89f6-909dcce7bc57",
   "metadata": {},
   "source": [
    "5. Read Data from CSV\n",
    "- Read a CSV file using pd.read_csv().\n",
    "- Display the shape, column names, and data types."
   ]
  },
  {
   "cell_type": "code",
   "execution_count": 12,
   "id": "a68f1b67-21bc-4fe4-b190-77eb8e91c652",
   "metadata": {},
   "outputs": [],
   "source": [
    "df = pd.read_csv(\"c:/users/sakshi yadav/Downloads/tested.csv\")"
   ]
  },
  {
   "cell_type": "code",
   "execution_count": 13,
   "id": "79b25d79-d3f9-457a-90c0-0ba4b6041e77",
   "metadata": {},
   "outputs": [
    {
     "data": {
      "text/plain": [
       "(418, 12)"
      ]
     },
     "execution_count": 13,
     "metadata": {},
     "output_type": "execute_result"
    }
   ],
   "source": [
    "df.shape"
   ]
  },
  {
   "cell_type": "code",
   "execution_count": 14,
   "id": "7e9861ba-bc37-4aae-985e-4e8eda53f701",
   "metadata": {},
   "outputs": [
    {
     "data": {
      "text/plain": [
       "Index(['PassengerId', 'Survived', 'Pclass', 'Name', 'Sex', 'Age', 'SibSp',\n",
       "       'Parch', 'Ticket', 'Fare', 'Cabin', 'Embarked'],\n",
       "      dtype='object')"
      ]
     },
     "execution_count": 14,
     "metadata": {},
     "output_type": "execute_result"
    }
   ],
   "source": [
    "df.columns"
   ]
  },
  {
   "cell_type": "code",
   "execution_count": 15,
   "id": "6cea7450-e6d1-4fc6-b516-9af838038710",
   "metadata": {},
   "outputs": [
    {
     "data": {
      "text/plain": [
       "PassengerId      int64\n",
       "Survived         int64\n",
       "Pclass           int64\n",
       "Name            object\n",
       "Sex             object\n",
       "Age            float64\n",
       "SibSp            int64\n",
       "Parch            int64\n",
       "Ticket          object\n",
       "Fare           float64\n",
       "Cabin           object\n",
       "Embarked        object\n",
       "dtype: object"
      ]
     },
     "execution_count": 15,
     "metadata": {},
     "output_type": "execute_result"
    }
   ],
   "source": [
    "df.dtypes"
   ]
  }
 ],
 "metadata": {
  "kernelspec": {
   "display_name": "Python 3 (ipykernel)",
   "language": "python",
   "name": "python3"
  },
  "language_info": {
   "codemirror_mode": {
    "name": "ipython",
    "version": 3
   },
   "file_extension": ".py",
   "mimetype": "text/x-python",
   "name": "python",
   "nbconvert_exporter": "python",
   "pygments_lexer": "ipython3",
   "version": "3.13.1"
  }
 },
 "nbformat": 4,
 "nbformat_minor": 5
}
